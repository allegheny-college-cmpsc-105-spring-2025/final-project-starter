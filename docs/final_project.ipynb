{
  "cells": [
    {
      "cell_type": "raw",
      "metadata": {
        "vscode": {
          "languageId": "raw"
        }
      },
      "source": [
        "---\n",
        "format:\n",
        "  html:\n",
        "    code-fold: true\n",
        "jupyter: python3\n",
        "echo: false\n",
        "toc: true\n",
        "---"
      ]
    },
    {
      "cell_type": "markdown",
      "metadata": {
        "id": "ClLOQpK1CBWZ"
      },
      "source": [
        "- TODO: Click on the badge, then `Copy to Drive` before continuing\n",
        "- TODO: delete this cell"
      ]
    },
    {
      "cell_type": "markdown",
      "metadata": {
        "id": "3CSdVdx2B7hN"
      },
      "source": [
        "[![Open In Colab](https://colab.research.google.com/assets/colab-badge.svg)](https://githubtocolab.com/allegheny-college-cmpsc-105-spring-2025/final-project-starter/blob/main/final_project_starter.ipynb)"
      ]
    },
    {
      "cell_type": "markdown",
      "metadata": {
        "id": "hnptErUoAnkF"
      },
      "source": [
        "## Final Project Instructions\n",
        "\n",
        "The CMPSC 105 Data Structures Final Presentations are May 1, at 7pm.\n",
        "\n",
        "In this file, you will document your final project. Recall, that you have already created a proposal document and abstract which can be\n",
        "borrowed and brought into this document as needed.\n",
        "\n",
        "The amount of work should be equivalent to 3-4 labs. Some extra time will be given to working on final projects during class in week 15.\n",
        "\n",
        "## Goals\n",
        "\n",
        "Your goals for this final project are:\n",
        "\n",
        "- create a project report that documents your project and tells a story about data\n",
        "- use markdown and code cells to strategically place text and images for your story\n",
        "- make the story complete but also concise. This document will be what you present in a five-minute lightning talk during the final exam period\n",
        "- show at least three figures to tell your story.\n",
        "\n",
        "Don't forget to answer all `T O D O` markers and to remove the markers.\n",
        "\n",
        "## Hard Deadline\n",
        "\n",
        "7:00pm, Thursday May 1, 2025 \n",
        "\n",
        "## Learning Outcomes\n",
        "\n",
        "By completing this lab you will demonstrate your ability to \n",
        "\n",
        "- develop a hypothesis and identity data to address the hypothesis\n",
        "- use python to compute summary statistics and visualize patterns\n",
        "- describe key elements in your data visualizations\n",
        "- use a web-based platform to present your story, including visualizations, exploration steps, and conclusions\n",
        "\n",
        "\n",
        "## Reminders\n",
        "\n",
        "- If you have a question, post in the 105 Discord channel.\n",
        "- Refer to previous materials to learn how to use Notebooks in Google Colab, make your work accessible, submit, and check your work.\n",
        "\n",
        "## Saving Your Work\n",
        "\n",
        "Saving your work and making it accessible is a required part of all labs.\n",
        "\n",
        "### Accessability Part 1\n",
        "\n",
        "Update the Colab filename to be `final_project.ipynb`.\n",
        "\n",
        "Make sure that only story-relevant cells are SHOWING their outputs.\n",
        "\n",
        "Add your data to your repository in the data directory. <font color=\"red\">Ensure the CSV filename containing your data is `final_project_data.csv` and located in the data directory.</font>\n",
        "\n",
        "### Saving\n",
        "\n",
        "I would recommend a workflow of `Copy to Drive --> editing/running/testing --> downloading`. You should have already hit `Copy to Drive`, but if you haven't, then please do so now. Then go ahead and download the file from the menu at the top of the Colab interface. File > Download > Download ipynb\n",
        "\n",
        "### Accessibility Part 2\n",
        "\n",
        "If you are satisfied with your work, you can now upload the downloaded file to your GitHub repo!\n",
        "\n",
        "- Use GitHub to upload the file.\n",
        "  - Next to the green code button in GitHub, you will see an `add file` button. Click that, then choose the downloaded notebook from your computer.\n",
        "\n",
        "## Checking Your Work\n",
        "\n",
        "### Check your file output\n",
        "\n",
        "Once your file is uploaded, please open it on GitHub. All the outputs and plots should be showing. If they are not showing, this means that not all code cells were executed before you downloaded your file.\n",
        "\n",
        "<font color=\"red\">\n",
        "\n",
        "### Check Your Website\n",
        "\n",
        "Please check how the website renders by going to the URL for your site. If something is rendering\n",
        "incorrectly, refer back with the starter repo and post questions on Discord.\n",
        "\n",
        "</font>\n",
        "\n",
        "### Check GitHub Actions\n",
        "\n",
        "In GitHub, go to the Actions tab. Click on the top Action to see a report about your T O D Os. If the T O D Os have been done and deleted, then the actions will show that gatorgrade reports 100%. This is not your grade, but it is a good indication that you did not forget to do something.\n",
        "\n",
        "If you see remaining T O D Os, then you may want to edit and update your file.\n",
        "\n",
        "<font color=\"red\">\n",
        "\n",
        "### TODO: DELETE THIS CELL ENTIRELY TO MAKE A CLEAN REPORT\n",
        "\n",
        "- the starter repo which contains the original instructions can be found here: https://github.com/allegheny-college-cmpsc-105-spring-2025/final-project-starter/blob/main/final_project_starter.ipynb\n",
        "- the starter repo website which also contains the original instructions can be found here: https://allegheny-college-cmpsc-105-generic.github.io/final-project-starter/\n",
        "\n",
        "</font>"
      ]
    },
    {
      "cell_type": "markdown",
      "metadata": {
        "id": "qCudyT3axBkJ"
      },
      "source": [
        "## TODO: Write Your Title"
      ]
    },
    {
      "cell_type": "markdown",
      "metadata": {
        "id": "4aTYdKaRCAQs"
      },
      "source": [
        "\n",
        "TODO: double click and replace this text with your name"
      ]
    },
    {
      "cell_type": "markdown",
      "metadata": {},
      "source": [
        "## Abstract\n",
        "\n",
        "- TODO: paste abstract"
      ]
    },
    {
      "cell_type": "markdown",
      "metadata": {},
      "source": [
        "## Hypothesis\n",
        "\n",
        "- TODO: restate your hypothesis or question\n",
        "- TODO: state any sub questions that the main question breaks into"
      ]
    },
    {
      "cell_type": "markdown",
      "metadata": {},
      "source": [
        "## Methods\n",
        "\n",
        "### Data\n",
        "\n",
        "- TODO: describe the data to address the hypothesis, and why it will help you answer your question\n",
        "- TODO: describe how you got the data\n",
        "\n",
        "### Preprocessing Steps\n",
        "\n",
        "- TODO: describe any preprocessing and wrangling done to the entire dataset. Be specific enough so that\n",
        "  someone could replicate your work in a different programming language. This means that you\n",
        "  should not dictate what functions to use, rather the concepts to use.\n",
        "\n",
        "### Processing Steps\n",
        "\n",
        "- TODO: describe major steps that you do to make sense of the data. Be specific enough so that\n",
        "  someone could replicate your work in a different programming language. This means that you\n",
        "  should not dictate what functions to use, rather the concepts to use.\n",
        "- Ideally this will be a story with multiple steps, e.g. raw data inspection, then filtering, then averaging, then comparing\n",
        "- Optional: Don't forget about the possibility of doing correlation, linear regression, k-means clustering, or hypothesis testing\n",
        "\n",
        "### Purpose\n",
        "\n",
        "- TODO: Explain why doing the steps above will answer your question"
      ]
    },
    {
      "cell_type": "code",
      "execution_count": null,
      "metadata": {},
      "outputs": [],
      "source": [
        "# code cells will likely go here, but they can go where you need\n",
        "# make sure that your code is commented \n",
        "# run all code cells, but hide output as needed before uploading this file into your repo\n",
        "# the goal is to have a readable and informative report"
      ]
    },
    {
      "cell_type": "markdown",
      "metadata": {},
      "source": [
        "\n",
        "## Results and Discussion\n",
        "\n",
        "- TODO: visualize as many of the previously-mentioned steps as possible. Label everything.\n",
        "  Break up this markdown cell as needed with code cells that generate plots. Use\n",
        "  python to generate plots\n",
        "- TODO: state the mean and standard deviation in text for each major step that you take. Use\n",
        "  python to compute those statistics\n",
        "- TODO: for each plot, either right before or right after, describe the plot without interpretation.\n",
        "  Just describe what you see, any relevant colors or categories, etc.\n",
        "- TODO: after you describe the plot, interpret it. What does it mean and how does it connect\n",
        "  back to your question? \n",
        "- TODO: before going to the next step, say why you are going to the next step, and how it\n",
        "  connects back to your question or logically follows from the previous step."
      ]
    },
    {
      "cell_type": "markdown",
      "metadata": {
        "vscode": {
          "languageId": "raw"
        }
      },
      "source": [
        "## Conclusions\n",
        "\n",
        "- TODO: repeat your main findings and why they matter\n",
        "- TODO: state the answer to your question\n",
        "- TODO: state any limitations or problems with the current results\n",
        "- TODO: overall, state how your result informs or helps others"
      ]
    },
    {
      "cell_type": "markdown",
      "metadata": {},
      "source": [
        "## Reference\n",
        "\n",
        "- TODO: cite one scholarly article that relates to your topic/methods/results"
      ]
    },
    {
      "cell_type": "markdown",
      "metadata": {},
      "source": [
        "## Appendix 1\n",
        "\n",
        "- This section documents your technical knowledge that is not part of your research story\n",
        "- TODO: describe the key features of your data, the type, the dimensions, and how you know the type and dimension\n",
        "- TODO: document the pre written python libraries that were used.\n",
        "- TODO: describe the key technical elements in your data visualizations, such as\n",
        "  the type of plots, settings for the axes, symbol choices, color choices, legend usage, etc. "
      ]
    },
    {
      "cell_type": "markdown",
      "metadata": {},
      "source": [
        "## Appendix 2\n",
        "\n",
        "- TODO: explain logical filtering using an example from this course\n",
        "- TODO: explain standard deviation using an example from this course"
      ]
    },
    {
      "cell_type": "code",
      "execution_count": null,
      "metadata": {
        "id": "dLgLrbWMVQtB"
      },
      "outputs": [],
      "source": [
        "### Please ensure that you have participated on Discord this week.\n",
        "\n",
        "# TODO: Please go to discord and see if your colleagues have posted questions.\n",
        "# If you know the answer to an unanswered question, please respond!\n",
        "# Otherwise, please post a question you have about this lab so far or a short description\n",
        "# of what you found to be the most challenging part so far.\n",
        "\n",
        "# TODO: remove this cell when no longer needed"
      ]
    }
  ],
  "metadata": {
    "colab": {
      "provenance": [],
      "toc_visible": true
    },
    "kernelspec": {
      "display_name": "Python 3",
      "name": "python3"
    },
    "language_info": {
      "name": "python"
    }
  },
  "nbformat": 4,
  "nbformat_minor": 0
}
